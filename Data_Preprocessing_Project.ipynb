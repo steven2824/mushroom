{
  "cells": [
    {
      "cell_type": "markdown",
      "metadata": {
        "id": "view-in-github",
        "colab_type": "text"
      },
      "source": [
        "<a href=\"https://colab.research.google.com/github/steven2824/mushroom/blob/main/Data_Preprocessing_Project.ipynb\" target=\"_parent\"><img src=\"https://colab.research.google.com/assets/colab-badge.svg\" alt=\"Open In Colab\"/></a>"
      ]
    },
    {
      "cell_type": "code",
      "execution_count": 1,
      "id": "f691181c-7b1c-4995-a850-236c8df32ed1",
      "metadata": {
        "id": "f691181c-7b1c-4995-a850-236c8df32ed1"
      },
      "outputs": [],
      "source": [
        "# ===============================================\n",
        "# Clean → Encode → Classify (KNN) — Simplified\n",
        "# ===============================================\n",
        "# Dataset: Kaggle \"Mushroom Classification\"\n",
        "# Expected file: ./mushrooms.csv\n",
        "\n",
        "import os\n",
        "import numpy as np\n",
        "import pandas as pd\n",
        "import matplotlib.pyplot as plt\n",
        "\n",
        "from sklearn.model_selection import train_test_split, GridSearchCV\n",
        "from sklearn.preprocessing import StandardScaler, label_binarize\n",
        "from sklearn.impute import SimpleImputer  # used ONCE as an example\n",
        "from sklearn.neighbors import KNeighborsClassifier\n",
        "from sklearn.metrics import (\n",
        "    accuracy_score, classification_report, confusion_matrix, ConfusionMatrixDisplay,\n",
        "    roc_curve, auc\n",
        ")\n",
        "\n",
        "RANDOM_STATE = 42\n",
        "np.random.seed(RANDOM_STATE)"
      ]
    },
    {
      "cell_type": "code",
      "execution_count": 2,
      "id": "49e59f2d-8b8c-4d37-8e01-3f7b5568525a",
      "metadata": {
        "id": "49e59f2d-8b8c-4d37-8e01-3f7b5568525a",
        "outputId": "b9c52e6f-569f-4ef4-8155-290046435edb",
        "colab": {
          "base_uri": "https://localhost:8080/"
        }
      },
      "outputs": [
        {
          "output_type": "stream",
          "name": "stdout",
          "text": [
            "Initial shape: (8124, 23)\n",
            "First five rows:\n",
            "   class cap-shape cap-surface cap-color bruises odor gill-attachment  \\\n",
            "0     p         x           s         n       t    p               f   \n",
            "1     e         x           s         y       t    a               f   \n",
            "2     e         b           s         w       t    l               f   \n",
            "3     p         x           y         w       t    p               f   \n",
            "4     e         x           s         g       f    n               f   \n",
            "\n",
            "  gill-spacing gill-size gill-color  ... stalk-surface-below-ring  \\\n",
            "0            c         n          k  ...                        s   \n",
            "1            c         b          k  ...                        s   \n",
            "2            c         b          n  ...                        s   \n",
            "3            c         n          n  ...                        s   \n",
            "4            w         b          k  ...                        s   \n",
            "\n",
            "  stalk-color-above-ring stalk-color-below-ring veil-type veil-color  \\\n",
            "0                      w                      w         p          w   \n",
            "1                      w                      w         p          w   \n",
            "2                      w                      w         p          w   \n",
            "3                      w                      w         p          w   \n",
            "4                      w                      w         p          w   \n",
            "\n",
            "  ring-number ring-type spore-print-color population habitat  \n",
            "0           o         p                 k          s       u  \n",
            "1           o         p                 n          n       g  \n",
            "2           o         p                 n          n       m  \n",
            "3           o         p                 k          s       u  \n",
            "4           o         e                 n          a       g  \n",
            "\n",
            "[5 rows x 23 columns]\n"
          ]
        }
      ],
      "source": [
        "# -----------------------------\n",
        "# 0) Load data\n",
        "# -----------------------------\n",
        "csv_path = \"./mushrooms.csv\"   # TODO: place the file or change path\n",
        "if not os.path.exists(csv_path):\n",
        "    raise FileNotFoundError(f\"Could not find {csv_path} — download from Kaggle and try again.\")\n",
        "\n",
        "df = pd.read_csv(csv_path)\n",
        "print(\"Initial shape:\", df.shape)\n",
        "# TODO: Get the top 5 rows (1 line of code)\n",
        "print(\"First five rows:\\n\", df.head())"
      ]
    },
    {
      "cell_type": "code",
      "execution_count": 3,
      "id": "071b36d1-db02-41bd-8e9e-3cd64dd349e7",
      "metadata": {
        "id": "071b36d1-db02-41bd-8e9e-3cd64dd349e7",
        "outputId": "7a40fd29-736d-46e0-e53a-da1fb3a4be61",
        "colab": {
          "base_uri": "https://localhost:8080/"
        }
      },
      "outputs": [
        {
          "output_type": "stream",
          "name": "stdout",
          "text": [
            "Removed duplicates: 0\n",
            "Dropped fully empty rows: 0\n",
            "\n",
            "Missing values per column (top 10):\n",
            "class              0\n",
            "cap-shape          0\n",
            "cap-surface        0\n",
            "cap-color          0\n",
            "bruises            0\n",
            "odor               0\n",
            "gill-attachment    0\n",
            "gill-spacing       0\n",
            "gill-size          0\n",
            "gill-color         0\n",
            "dtype: int64\n"
          ]
        }
      ],
      "source": [
        "# -----------------------------\n",
        "# 1) Basic cleaning (duplicates, empty rows)\n",
        "# -----------------------------\n",
        "before = df.shape[0]\n",
        "\n",
        "# TODO: Remove duplicates (1 line of code)\n",
        "df.drop_duplicates(inplace=True)\n",
        "print(\"Removed duplicates:\", before - df.shape[0])\n",
        "\n",
        "before = df.shape[0]\n",
        "# TODO: Drop fully empty rows (1 line of code)\n",
        "df.dropna()\n",
        "\n",
        "print(\"Dropped fully empty rows:\", before - df.shape[0])\n",
        "\n",
        "print(\"\\nMissing values per column (top 10):\")\n",
        "# TODO: Display the missing values per column (1 line of code)\n",
        "print(df.isna().sum().head(10))\n",
        "\n"
      ]
    },
    {
      "cell_type": "code",
      "execution_count": 4,
      "id": "7dbf5817-2114-440c-9453-e8d7e365989e",
      "metadata": {
        "id": "7dbf5817-2114-440c-9453-e8d7e365989e",
        "outputId": "786d09e9-d7cf-4051-a3ea-d514cc99820d",
        "colab": {
          "base_uri": "https://localhost:8080/"
        }
      },
      "outputs": [
        {
          "output_type": "stream",
          "name": "stdout",
          "text": [
            "\n",
            "Train/Test shapes: (6499, 22) (1625, 22)\n",
            "Original numeric cols: None\n",
            "Original categorical cols (sample): ['cap-shape', 'cap-surface', 'cap-color', 'bruises', 'odor', 'gill-attachment', 'gill-spacing', 'gill-size', 'gill-color', 'stalk-shape']\n"
          ]
        }
      ],
      "source": [
        "# -----------------------------\n",
        "# 2) Target & split\n",
        "# -----------------------------\n",
        "TARGET_COL = \"class\"  # TODO: change if your label column differs\n",
        "if TARGET_COL not in df.columns:\n",
        "    raise ValueError(\"Update TARGET_COL to match your dataset's label column.\")\n",
        "\n",
        "# TODO: Drop the target column from the \"X\" (1 line of code)\n",
        "# TODO: Set up the target column (1 line of code)\n",
        "\n",
        "X = df.drop(TARGET_COL, axis=1)\n",
        "y = df[TARGET_COL]\n",
        "\n",
        "X_train, X_test, y_train, y_test = train_test_split(\n",
        "    X, y, test_size=0.20, random_state=RANDOM_STATE, stratify=y\n",
        ")\n",
        "print(\"\\nTrain/Test shapes:\", X_train.shape, X_test.shape)\n",
        "\n",
        "# Detect types BEFORE imputation/encoding\n",
        "# TODO: Extract the numeric columns from the training data set and store it as a list\n",
        "# TODO: Extract the categorical columns from the training data set and store it as a list\n",
        "\n",
        "orig_numeric_cols = X.select_dtypes(include=[\"number\"]).columns.tolist()\n",
        "orig_categorical_cols = X.select_dtypes(exclude=[\"number\"]).columns.tolist()\n",
        "\n",
        "print(\"Original numeric cols:\", orig_numeric_cols if orig_numeric_cols else \"None\")\n",
        "print(\"Original categorical cols (sample):\", orig_categorical_cols[:10])"
      ]
    },
    {
      "cell_type": "code",
      "execution_count": 5,
      "id": "598f745b-4cd4-465b-a56d-81cf4f2205d4",
      "metadata": {
        "id": "598f745b-4cd4-465b-a56d-81cf4f2205d4",
        "colab": {
          "base_uri": "https://localhost:8080/"
        },
        "outputId": "217591be-fb2a-4efb-c51e-caad47a3e147"
      },
      "outputs": [
        {
          "output_type": "stream",
          "name": "stdout",
          "text": [
            "\n",
            "Used sklearn SimpleImputer on column: odor\n"
          ]
        }
      ],
      "source": [
        "# --------------------------------------------\n",
        "# 3) IMPUTATION (MANUAL) + one sklearn example\n",
        "# --------------------------------------------\n",
        "# Manual imputation rules:\n",
        "#  - Numeric: fill with TRAIN median\n",
        "#  - Categorical: fill with TRAIN mode\n",
        "# NOTE: We compute imputation values on TRAIN only, then apply to both TRAIN & TEST.\n",
        "\n",
        "X_train_imp = X_train.copy()\n",
        "X_test_imp  = X_test.copy()\n",
        "\n",
        "# a) Numeric → manual median\n",
        "# TODO: For each of the columns, fill the empty values with the median of the column (4 lines of code)\n",
        "# TODO: Do this for the training and test data separately.\n",
        "# Fill numeric columns with median\n",
        "for col in orig_numeric_cols:\n",
        "    median_val = X_train_imp[col].median()      # compute median from TRAIN\n",
        "    X_train_imp[col].fillna(median_val)\n",
        "    X_test_imp[col].fillna(median_val)\n",
        "\n",
        "\n",
        "# b) Categorical → manual mode\n",
        "# TODO: For each of the columns, fill the empty values with the mode of the column (4-5 lines of code)\n",
        "# TODO: Do this for the training and test data separately.\n",
        "for col in orig_categorical_cols:\n",
        "    mode_val = X_train_imp[col].mode()[0]  # get the actual value\n",
        "    X_train_imp[col].fillna(mode_val)\n",
        "    X_test_imp[col].fillna(mode_val)\n",
        "\n",
        "# c) One EXAMPLE using sklearn SimpleImputer on a SINGLE column (categorical)\n",
        "# Choose a categorical column present in your dataset:\n",
        "IMPUTE_EXAMPLE_COL = \"odor\"  # TODO: change if needed\n",
        "if IMPUTE_EXAMPLE_COL in X_train_imp.columns:\n",
        "    cat_imp = SimpleImputer(strategy=\"most_frequent\")\n",
        "    X_train_imp[IMPUTE_EXAMPLE_COL] = cat_imp.fit_transform(X_train_imp[[IMPUTE_EXAMPLE_COL]]).ravel()\n",
        "    X_test_imp[IMPUTE_EXAMPLE_COL]  = cat_imp.transform(X_test_imp[[IMPUTE_EXAMPLE_COL]]).ravel()\n",
        "    print(f\"\\nUsed sklearn SimpleImputer on column: {IMPUTE_EXAMPLE_COL}\")\n",
        "else:\n",
        "    print(f\"\\n[Note] Example imputer column '{IMPUTE_EXAMPLE_COL}' not found. Skipping sklearn example.\")\n"
      ]
    },
    {
      "cell_type": "code",
      "execution_count": 6,
      "id": "bd9cf1bd-1c72-4f22-87b1-020ad1fb5ec3",
      "metadata": {
        "id": "bd9cf1bd-1c72-4f22-87b1-020ad1fb5ec3",
        "colab": {
          "base_uri": "https://localhost:8080/"
        },
        "outputId": "8750c7e0-4669-414b-ef8f-a8274acea728"
      },
      "outputs": [
        {
          "output_type": "stream",
          "name": "stdout",
          "text": [
            "\n",
            "Explicit OHE applied to column: odor\n",
            "Encoded train shape: (6499, 126)\n",
            "Encoded test shape: (1625, 126)\n"
          ]
        }
      ],
      "source": [
        "# --------------------------------------------\n",
        "# 4) ENCODING\n",
        "#    - EXPLICIT One-Hot Encoding on ONE chosen column\n",
        "#    - Then get_dummies for the remaining categoricals\n",
        "# --------------------------------------------\n",
        "# Choose the column for explicit OHE:\n",
        "EXPLICIT_OHE_COL = \"odor\"  # TODO: change if needed\n",
        "\n",
        "X_train_enc = X_train_imp.copy()\n",
        "X_test_enc  = X_test_imp.copy()\n",
        "\n",
        "if EXPLICIT_OHE_COL in X_train_enc.columns:\n",
        "    # EXPLICIT OHE on this ONE column — fit on TRAIN only and TEST only separately (2 lines of code)\n",
        "    # Align test columns to train (avoid unseen-category issues)\n",
        "    train_ohe = pd.get_dummies(X_train_enc[EXPLICIT_OHE_COL], prefix=EXPLICIT_OHE_COL)\n",
        "    test_ohe  = pd.get_dummies(X_test_enc[EXPLICIT_OHE_COL], prefix=EXPLICIT_OHE_COL)\n",
        "\n",
        "    test_ohe = test_ohe.reindex(columns=train_ohe.columns, fill_value=0)\n",
        "\n",
        "    # Drop original column and concat OHE columns\n",
        "    X_train_enc = pd.concat([X_train_enc.drop(columns=[EXPLICIT_OHE_COL]), train_ohe], axis=1)\n",
        "    X_test_enc  = pd.concat([X_test_enc.drop(columns=[EXPLICIT_OHE_COL]),  test_ohe], axis=1)\n",
        "\n",
        "    print(f\"\\nExplicit OHE applied to column: {EXPLICIT_OHE_COL}\")\n",
        "else:\n",
        "    print(f\"\\n[Note] Explicit OHE column '{EXPLICIT_OHE_COL}' not found. Skipping explicit OHE step.\")\n",
        "\n",
        "# TODO: Identify remaining categorical columns (post explicit OHE drop) in the TRAINING data set only (1 line of code)\n",
        "remaining_categorical_cols = X_train_enc.select_dtypes(exclude=['number']).columns.tolist()\n",
        "\n",
        "# TODO: Apply get_dummies to the remaining categoricals (fit on TRAIN, align TEST) (1 lines of code)\n",
        "X_train_enc = pd.get_dummies(X_train_enc, columns=remaining_categorical_cols, dummy_na=False, drop_first=False)\n",
        "X_test_enc = pd.get_dummies(X_test_enc, columns=remaining_categorical_cols, dummy_na=False, drop_first=False)\n",
        "\n",
        "# Align test columns to train columns (VERY IMPORTANT)\n",
        "X_test_enc = X_test_enc.reindex(columns=X_train_enc.columns, fill_value=0)\n",
        "\n",
        "print(\"Encoded train shape:\", X_train_enc.shape)\n",
        "print(\"Encoded test shape:\", X_test_enc.shape)"
      ]
    },
    {
      "cell_type": "code",
      "execution_count": 7,
      "id": "53c3d8fe-6d58-4a0b-9bc3-5f447ada19bc",
      "metadata": {
        "id": "53c3d8fe-6d58-4a0b-9bc3-5f447ada19bc",
        "colab": {
          "base_uri": "https://localhost:8080/"
        },
        "outputId": "b190c346-ff8f-408f-bd4c-f82b37087831"
      },
      "outputs": [
        {
          "output_type": "stream",
          "name": "stdout",
          "text": [
            "\n",
            "No numeric columns to scale.\n"
          ]
        }
      ],
      "source": [
        "# --------------------------------------------\n",
        "# 5) NORMALIZE numeric columns (if any)\n",
        "#    (Scale ONLY the original numeric columns; don't scale one-hot columns)\n",
        "# --------------------------------------------\n",
        "# TODO: Use the Standard Scaler to scale the numeric values (1 line of code)\n",
        "from sklearn.preprocessing import StandardScaler\n",
        "\n",
        "numeric_cols_to_scale = [c for c in orig_numeric_cols if c in X_train_enc.columns]\n",
        "\n",
        "# TODO: Fit the scaler and scale the train and test data separately. (3 lines of code)\n",
        "if numeric_cols_to_scale:\n",
        "    scaler = StandardScaler()\n",
        "    X_train_enc[numeric_cols_to_scale] = scaler.fit_transform(X_train_enc[numeric_cols_to_scale])\n",
        "    X_test_enc[numeric_cols_to_scale]  = scaler.transform(X_test_enc[numeric_cols_to_scale])\n",
        "\n",
        "\n",
        "# TODO: Print the names of the columns scaled if any (4 lines of code at max)\n",
        "if numeric_cols_to_scale:\n",
        "    print(\"\\nNumeric columns scaled:\")\n",
        "    print(numeric_cols_to_scale)\n",
        "else:\n",
        "    print(\"\\nNo numeric columns to scale.\")"
      ]
    },
    {
      "cell_type": "code",
      "execution_count": 8,
      "id": "f5f3168a-8b0a-4511-9ea5-0cd73a5e8111",
      "metadata": {
        "id": "f5f3168a-8b0a-4511-9ea5-0cd73a5e8111",
        "colab": {
          "base_uri": "https://localhost:8080/",
          "height": 767
        },
        "outputId": "67e74c3e-58b8-4c23-9c13-31417e68fb25"
      },
      "outputs": [
        {
          "output_type": "stream",
          "name": "stdout",
          "text": [
            "Fitting 5 folds for each of 28 candidates, totalling 140 fits\n",
            "\n",
            "Best KNN Model: KNeighborsClassifier(metric='manhattan', n_neighbors=3, weights='distance')\n",
            "Best Parameters: {'metric': 'manhattan', 'n_neighbors': 3, 'weights': 'distance'}\n",
            "\n",
            "Test Accuracy: 1.0000\n",
            "\n",
            "Classification Report:\n",
            "               precision    recall  f1-score   support\n",
            "\n",
            "           e       1.00      1.00      1.00       842\n",
            "           p       1.00      1.00      1.00       783\n",
            "\n",
            "    accuracy                           1.00      1625\n",
            "   macro avg       1.00      1.00      1.00      1625\n",
            "weighted avg       1.00      1.00      1.00      1625\n",
            "\n"
          ]
        },
        {
          "output_type": "display_data",
          "data": {
            "text/plain": [
              "<Figure size 640x480 with 2 Axes>"
            ],
            "image/png": "[encoded data removed]"
          },
          "metadata": {}
        }
      ],
      "source": [
        "# --------------------------------------------\n",
        "# 6) KNN + Grid Search\n",
        "# --------------------------------------------\n",
        "from sklearn.neighbors import KNeighborsClassifier\n",
        "from sklearn.model_selection import GridSearchCV\n",
        "\n",
        "# TODO: Use the KNN Classifier to classify the data\n",
        "knn = KNeighborsClassifier()\n",
        "# TODO: Test for number of neighbors in the set [3, 5, 7, 9, 11, 15, 21]\n",
        "param_grid = {\n",
        "    \"n_neighbors\": [3, 5, 7, 9, 11, 15, 21],\n",
        "    # TODO: Try both the types of weights\n",
        "    \"weights\": [\"uniform\", \"distance\"],\n",
        "    # TODO: Also try Manhattan and Euclidean distances.\n",
        "    \"metric\": [\"euclidean\", \"manhattan\"]\n",
        "}\n",
        "# Find and print the best_estimator_ and print the best parameters\n",
        "grid_search = GridSearchCV(\n",
        "    estimator=knn,\n",
        "    param_grid=param_grid,\n",
        "    cv=5,\n",
        "    scoring=\"accuracy\",\n",
        "    n_jobs=-1,\n",
        "    verbose=1\n",
        ")\n",
        "\n",
        "# Fit Grid Search on the training data\n",
        "grid_search.fit(X_train_enc, y_train)\n",
        "\n",
        "# Retrieve the best model and parameters\n",
        "best_knn = grid_search.best_estimator_\n",
        "print(\"\\nBest KNN Model:\", best_knn)\n",
        "print(\"Best Parameters:\", grid_search.best_params_)\n",
        "\n",
        "# Evaluate on test data\n",
        "y_pred = best_knn.predict(X_test_enc)\n",
        "acc = accuracy_score(y_test, y_pred)\n",
        "\n",
        "print(f\"\\nTest Accuracy: {acc:.4f}\")\n",
        "print(\"\\nClassification Report:\\n\", classification_report(y_test, y_pred))\n",
        "\n",
        "# Display confusion matrix\n",
        "cm = confusion_matrix(y_test, y_pred)\n",
        "ConfusionMatrixDisplay(cm).plot(cmap='Blues')\n",
        "plt.title(\"KNN Confusion Matrix\")\n",
        "plt.show()"
      ]
    },
    {
      "cell_type": "code",
      "execution_count": null,
      "id": "d55419d0-72c2-49a2-9f7d-9b9b0e2a3f62",
      "metadata": {
        "id": "d55419d0-72c2-49a2-9f7d-9b9b0e2a3f62",
        "colab": {
          "base_uri": "https://localhost:8080/",
          "height": 730
        },
        "outputId": "54913c43-0f1f-4cb6-f1bf-d1e8ec95c995"
      },
      "outputs": [
        {
          "output_type": "stream",
          "name": "stdout",
          "text": [
            "\n",
            "Test accuracy: 1.0000\n",
            "\n",
            "Classification report:\n",
            "               precision    recall  f1-score   support\n",
            "\n",
            "           e       1.00      1.00      1.00       842\n",
            "           p       1.00      1.00      1.00       783\n",
            "\n",
            "    accuracy                           1.00      1625\n",
            "   macro avg       1.00      1.00      1.00      1625\n",
            "weighted avg       1.00      1.00      1.00      1625\n",
            "\n"
          ]
        },
        {
          "output_type": "display_data",
          "data": {
            "text/plain": [
              "<Figure size 640x480 with 0 Axes>"
            ]
          },
          "metadata": {}
        },
        {
          "output_type": "display_data",
          "data": {
            "text/plain": [
              "<Figure size 640x480 with 2 Axes>"
            ],
            "image/png": "[encoded data removed]"
          },
          "metadata": {}
        }
      ],
      "source": [
        "# --------------------------------------------\n",
        "# 7) Evaluate on held-out TEST\n",
        "# --------------------------------------------\n",
        "# TODO: Use KNN to make predictions on the test dataset (1 line of code)\n",
        "y_pred = grid_search.predict(X_test_enc)\n",
        "\n",
        "test_acc = accuracy_score(y_test, y_pred)\n",
        "print(\"\\nTest accuracy: {:.4f}\".format(test_acc))\n",
        "print(\"\\nClassification report:\\n\", classification_report(y_test, y_pred))\n",
        "\n",
        "# Confusion Matrix\n",
        "cm = confusion_matrix(y_test, y_pred, labels=np.unique(y))\n",
        "disp = ConfusionMatrixDisplay(confusion_matrix=cm, display_labels=np.unique(y))\n",
        "plt.figure()\n",
        "disp.plot(values_format=\"d\")\n",
        "plt.title(\"Confusion Matrix (Test)\")\n",
        "plt.tight_layout()\n",
        "plt.show()"
      ]
    },
    {
      "cell_type": "code",
      "execution_count": null,
      "id": "39a94642-08d4-49a3-bf64-be7759e8fe32",
      "metadata": {
        "id": "39a94642-08d4-49a3-bf64-be7759e8fe32",
        "colab": {
          "base_uri": "https://localhost:8080/",
          "height": 228
        },
        "outputId": "c0fcfc2a-b09b-44cc-a1af-14d05e6f3fc3"
      },
      "outputs": [
        {
          "output_type": "error",
          "ename": "NameError",
          "evalue": "name 'grid' is not defined",
          "traceback": [
            "\u001b[0;31m---------------------------------------------------------------------------\u001b[0m",
            "\u001b[0;31mNameError\u001b[0m                                 Traceback (most recent call last)",
            "\u001b[0;32m/tmp/ipython-input-2259351534.py\u001b[0m in \u001b[0;36m<cell line: 0>\u001b[0;34m()\u001b[0m\n\u001b[1;32m      2\u001b[0m \u001b[0;31m# 8) Validation curve (CV accuracy vs k)\u001b[0m\u001b[0;34m\u001b[0m\u001b[0;34m\u001b[0m\u001b[0m\n\u001b[1;32m      3\u001b[0m \u001b[0;31m# --------------------------------------------\u001b[0m\u001b[0;34m\u001b[0m\u001b[0;34m\u001b[0m\u001b[0m\n\u001b[0;32m----> 4\u001b[0;31m \u001b[0mcvres\u001b[0m \u001b[0;34m=\u001b[0m \u001b[0mpd\u001b[0m\u001b[0;34m.\u001b[0m\u001b[0mDataFrame\u001b[0m\u001b[0;34m(\u001b[0m\u001b[0mgrid\u001b[0m\u001b[0;34m.\u001b[0m\u001b[0mcv_results_\u001b[0m\u001b[0;34m)\u001b[0m\u001b[0;34m\u001b[0m\u001b[0;34m\u001b[0m\u001b[0m\n\u001b[0m\u001b[1;32m      5\u001b[0m plotdf = cvres[[\"param_n_neighbors\", \"param_weights\", \"param_p\", \"mean_test_score\"]].rename(\n\u001b[1;32m      6\u001b[0m     \u001b[0mcolumns\u001b[0m\u001b[0;34m=\u001b[0m\u001b[0;34m{\u001b[0m\u001b[0;34m\"param_n_neighbors\"\u001b[0m\u001b[0;34m:\u001b[0m\u001b[0;34m\"k\"\u001b[0m\u001b[0;34m,\u001b[0m \u001b[0;34m\"param_weights\"\u001b[0m\u001b[0;34m:\u001b[0m\u001b[0;34m\"weights\"\u001b[0m\u001b[0;34m,\u001b[0m \u001b[0;34m\"param_p\"\u001b[0m\u001b[0;34m:\u001b[0m\u001b[0;34m\"p\"\u001b[0m\u001b[0;34m}\u001b[0m\u001b[0;34m\u001b[0m\u001b[0;34m\u001b[0m\u001b[0m\n",
            "\u001b[0;31mNameError\u001b[0m: name 'grid' is not defined"
          ]
        }
      ],
      "source": [
        "# --------------------------------------------\n",
        "# 8) Validation curve (CV accuracy vs k)\n",
        "# --------------------------------------------\n",
        "cvres = pd.DataFrame(grid.cv_results_)\n",
        "plotdf = cvres[[\"param_n_neighbors\", \"param_weights\", \"param_p\", \"mean_test_score\"]].rename(\n",
        "    columns={\"param_n_neighbors\":\"k\", \"param_weights\":\"weights\", \"param_p\":\"p\"}\n",
        ")\n",
        "\n",
        "plt.figure()\n",
        "for (w, pval), sub in plotdf.groupby([\"weights\", \"p\"]):\n",
        "    sub = sub.sort_values(\"k\")\n",
        "    plt.plot(sub[\"k\"], sub[\"mean_test_score\"], marker=\"o\", label=f\"weights={w}, p={pval}\")\n",
        "plt.xlabel(\"k (n_neighbors)\")\n",
        "plt.ylabel(\"Mean CV Accuracy\")\n",
        "plt.title(\"CV Accuracy vs k (by weights & p)\")\n",
        "plt.legend()\n",
        "plt.grid(True, alpha=0.3)\n",
        "plt.tight_layout()\n",
        "plt.show()"
      ]
    },
    {
      "cell_type": "code",
      "execution_count": null,
      "id": "9b46d8ad-a0c5-4829-841d-c08a5c7899dc",
      "metadata": {
        "id": "9b46d8ad-a0c5-4829-841d-c08a5c7899dc",
        "colab": {
          "base_uri": "https://localhost:8080/",
          "height": 487
        },
        "outputId": "d0b8bfac-a053-4890-b20d-6bcde2fb38f3"
      },
      "outputs": [
        {
          "output_type": "display_data",
          "data": {
            "text/plain": [
              "<Figure size 640x480 with 1 Axes>"
            ],
            "image/png": "[encoded data removed]"
          },
          "metadata": {}
        }
      ],
      "source": [
        "# --------------------------------------------\n",
        "# 9) ROC curve (binary; micro-average if multiclass)\n",
        "# --------------------------------------------\n",
        "if hasattr(best_knn, \"predict_proba\"):\n",
        "    classes_ = np.unique(y_train)\n",
        "    y_test_enc_int = pd.Categorical(y_test, categories=classes_).codes\n",
        "    proba = best_knn.predict_proba(X_test_enc)\n",
        "\n",
        "    if len(classes_) == 2:\n",
        "        fpr, tpr, _ = roc_curve(y_test_enc_int, proba[:, 1])\n",
        "        roc_auc = auc(fpr, tpr)\n",
        "        plt.figure()\n",
        "        plt.plot(fpr, tpr, lw=2, label=f\"AUC = {roc_auc:.3f}\")\n",
        "        plt.plot([0, 1], [0, 1], lw=1, linestyle=\"--\")\n",
        "        plt.xlabel(\"False Positive Rate\")\n",
        "        plt.ylabel(\"True Positive Rate\")\n",
        "        plt.title(\"ROC Curve (Test)\")\n",
        "        plt.legend(loc=\"lower right\")\n",
        "        plt.tight_layout()\n",
        "        plt.show()\n",
        "    else:\n",
        "        y_bin = label_binarize(y_test_enc_int, classes=range(len(classes_)))\n",
        "        fpr, tpr, _ = roc_curve(y_bin.ravel(), proba.ravel())\n",
        "        roc_auc = auc(fpr, tpr)\n",
        "        plt.figure()\n",
        "        plt.plot(fpr, tpr, lw=2, label=f\"Micro-average AUC = {roc_auc:.3f}\")\n",
        "        plt.plot([0, 1], [0, 1], lw=1, linestyle=\"--\")\n",
        "        plt.xlabel(\"False Positive Rate\")\n",
        "        plt.ylabel(\"True Positive Rate\")\n",
        "        plt.title(\"ROC Curve (Micro-average)\")\n",
        "        plt.legend(loc=\"lower right\")\n",
        "        plt.tight_layout()\n",
        "        plt.show()\n"
      ]
    },
    {
      "cell_type": "code",
      "execution_count": null,
      "id": "52474b46-b46c-4f6b-bf74-adc6ac54d947",
      "metadata": {
        "id": "52474b46-b46c-4f6b-bf74-adc6ac54d947"
      },
      "outputs": [],
      "source": [
        "# --------------------------------------------\n",
        "# 10) Print summary of features\n",
        "# Sample Output: Final feature count: 25\n",
        "# Best KNN: KNeighborsClassifier(n_neighbors=7, p=2, weights='distance')\n",
        "# --------------------------------------------\n",
        "# TODO: Print the final stats (2 lines of code)"
      ]
    },
    {
      "cell_type": "code",
      "execution_count": null,
      "id": "e6cf7cff-9130-4610-8b0f-cf9a1e2b0c29",
      "metadata": {
        "id": "e6cf7cff-9130-4610-8b0f-cf9a1e2b0c29"
      },
      "outputs": [],
      "source": []
    }
  ],
  "metadata": {
    "kernelspec": {
      "display_name": "Python 3 (ipykernel)",
      "language": "python",
      "name": "python3"
    },
    "language_info": {
      "codemirror_mode": {
        "name": "ipython",
        "version": 3
      },
      "file_extension": ".py",
      "mimetype": "text/x-python",
      "name": "python",
      "nbconvert_exporter": "python",
      "pygments_lexer": "ipython3",
      "version": "3.12.3"
    },
    "colab": {
      "provenance": [],
      "include_colab_link": true
    }
  },
  "nbformat": 4,
  "nbformat_minor": 5
}